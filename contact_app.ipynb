{
  "cells": [
    {
      "cell_type": "markdown",
      "metadata": {
        "id": "view-in-github",
        "colab_type": "text"
      },
      "source": [
        "<a href=\"https://colab.research.google.com/github/Aboli-Jangde/simple-django-login-and-register-dynamic-lang/blob/main/contact_app.ipynb\" target=\"_parent\"><img src=\"https://colab.research.google.com/assets/colab-badge.svg\" alt=\"Open In Colab\"/></a>"
      ]
    },
    {
      "cell_type": "markdown",
      "metadata": {
        "id": "GPUBQ6H_qNWv"
      },
      "source": [
        "# Contact app\n",
        "\n",
        "You have learnt a lot of new things; data structures, string, regex & files. Lets use all our newly acquired knowledge to build a **contact app**, just like the ones in our smartphone.\n",
        "\n",
        "We will not be building a fancy UI, instead we will focus on understanding the programming logic.\n",
        "\n",
        "Lets get started!\n",
        "\n",
        "Think of all the features that your contact app has . . . !\n",
        "- It can show you all the contact names\n",
        "- You can search for contacts (using name)\n",
        "- You can see all the information associated with the contact\n",
        "- You can delete and update contacts\n",
        "\n",
        "Can you think of anything more ? Our contact app should have at least these features. \n",
        "- The app should show us all the contact names\n",
        "- It should allow us to select a contact and view all the information associated with the contact\n",
        "- It should allow us to update contact info & delete contact\n",
        "- Finally, it should show us all the contact names\n",
        "\n",
        "For every contact, we will store the `name`, `number` & `email`. "
      ]
    },
    {
      "cell_type": "markdown",
      "metadata": {
        "id": "CEAph-DpqNWy"
      },
      "source": [
        "### Data Structure\n",
        "The very first thing that we need to decide is \"What data structure to use?\"\n",
        "\n",
        "To store all the contacts, we can use a list of dictionaries; were each dictionary stores the `name`, `number` & `email`  of the contact. \n",
        "\n",
        "Create a list of dictionaries called `contacts` with 3 dummy contacts.  "
      ]
    },
    {
      "cell_type": "code",
      "execution_count": null,
      "metadata": {
        "colab": {
          "base_uri": "https://localhost:8080/"
        },
        "id": "8gDPmwXPqNWz",
        "outputId": "cc8f00ce-27a4-4764-a353-452faaeb5a98"
      },
      "outputs": [
        {
          "output_type": "execute_result",
          "data": {
            "text/plain": [
              "[{'name': 'aaa', 'number': 8764537283, 'email': 'asjhdgbby65@gmail.com'},\n",
              " {'name': 'bbb', 'number': 8764537283, 'email': 'asjhdgbby65@gmail.com'},\n",
              " {'name': 'ccc', 'number': 8764537283, 'email': 'asjhdgbby65@gmail.com'}]"
            ]
          },
          "metadata": {},
          "execution_count": 6
        }
      ],
      "source": [
        "contacts=[{'name':'aaa','number':8764537283,'email':'asjhdgbby65@gmail.com'},{'name':'bbb','number':8764537283,'email':'asjhdgbby65@gmail.com'},{'name':'ccc','number':8764537283,'email':'asjhdgbby65@gmail.com'}]\n",
        "contacts"
      ]
    },
    {
      "cell_type": "markdown",
      "metadata": {
        "id": "T79lSv9ZqNW0"
      },
      "source": [
        "### List all contact names\n",
        "Write `show_contacts` function that takes the `contacts` list and prints all the contact names. These names will help us to select the contact later."
      ]
    },
    {
      "cell_type": "code",
      "execution_count": null,
      "metadata": {
        "id": "9pEda7B5qNW0",
        "colab": {
          "base_uri": "https://localhost:8080/"
        },
        "outputId": "e6c798cd-c009-46c7-aea9-b5b65b7cbf5a"
      },
      "outputs": [
        {
          "output_type": "execute_result",
          "data": {
            "text/plain": [
              "[{'name': 'aaa', 'number': 8764537283, 'email': 'asjhdgbby65@gmail.com'},\n",
              " {'name': 'bbb', 'number': 8764537283, 'email': 'asjhdgbby65@gmail.com'},\n",
              " {'name': 'ccc', 'number': 8764537283, 'email': 'asjhdgbby65@gmail.com'}]"
            ]
          },
          "metadata": {},
          "execution_count": 7
        }
      ],
      "source": [
        "def show_contacts(contacts):\n",
        "    return contacts\n",
        "contacts\n",
        "show_contacts(contacts)"
      ]
    },
    {
      "cell_type": "code",
      "execution_count": null,
      "metadata": {
        "id": "l_XWLaUyqNW1",
        "colab": {
          "base_uri": "https://localhost:8080/"
        },
        "outputId": "fc619602-8763-49f9-dea9-8ff579ec5167"
      },
      "outputs": [
        {
          "output_type": "execute_result",
          "data": {
            "text/plain": [
              "[{'name': 'aaa', 'number': 8764537283, 'email': 'asjhdgbby65@gmail.com'},\n",
              " {'name': 'bbb', 'number': 8764537283, 'email': 'asjhdgbby65@gmail.com'},\n",
              " {'name': 'ccc', 'number': 8764537283, 'email': 'asjhdgbby65@gmail.com'}]"
            ]
          },
          "metadata": {},
          "execution_count": 8
        }
      ],
      "source": [
        "show_contacts(contacts)"
      ]
    },
    {
      "cell_type": "markdown",
      "metadata": {
        "id": "S2ukfrncqNW1"
      },
      "source": [
        "### Add a new Contact\n",
        "\n",
        "Write `add_contact` function that takes user input and *adds new contact* dictionary to the existing list of `contacts`."
      ]
    },
    {
      "cell_type": "code",
      "execution_count": null,
      "metadata": {
        "id": "489WKEQ-qNW1",
        "colab": {
          "base_uri": "https://localhost:8080/"
        },
        "outputId": "39365512-499f-4944-c64c-fd29b1519214"
      },
      "outputs": [
        {
          "output_type": "execute_result",
          "data": {
            "text/plain": [
              "[{'name': 'aaa', 'number': 8764537283, 'email': 'asjhdgbby65@gmail.com'},\n",
              " {'name': 'bbb', 'number': 8764537283, 'email': 'asjhdgbby65@gmail.com'},\n",
              " {'name': 'ccc', 'number': 8764537283, 'email': 'asjhdgbby65@gmail.com'}]"
            ]
          },
          "metadata": {},
          "execution_count": 9
        }
      ],
      "source": [
        "def add_contact(contacts):\n",
        "    add = {}\n",
        "    add['name']=input()\n",
        "    add['number']=input()\n",
        "    add['email']=input()\n",
        "    contacts.append(add)\n",
        "    return contacts\n",
        "contacts\n"
      ]
    },
    {
      "cell_type": "code",
      "execution_count": null,
      "metadata": {
        "id": "bjGiExnZqNW1",
        "colab": {
          "base_uri": "https://localhost:8080/"
        },
        "outputId": "e450d598-1046-4de8-f6d3-dd0439c77d31"
      },
      "outputs": [
        {
          "name": "stdout",
          "output_type": "stream",
          "text": [
            "fgh\n",
            "7657658790\n",
            "hgfc@gmail.com\n"
          ]
        },
        {
          "output_type": "execute_result",
          "data": {
            "text/plain": [
              "[{'name': 'aaa', 'number': 8764537283, 'email': 'asjhdgbby65@gmail.com'},\n",
              " {'name': 'bbb', 'number': 8764537283, 'email': 'asjhdgbby65@gmail.com'},\n",
              " {'name': 'ccc', 'number': 8764537283, 'email': 'asjhdgbby65@gmail.com'},\n",
              " {'name': 'fgh', 'number': '7657658790', 'email': 'hgfc@gmail.com'}]"
            ]
          },
          "metadata": {},
          "execution_count": 10
        }
      ],
      "source": [
        "add_contact(contacts)"
      ]
    },
    {
      "cell_type": "markdown",
      "metadata": {
        "id": "QG8T4vayqNW2"
      },
      "source": [
        "### Delete Contact\n",
        "\n",
        "Write `delete_contact` function to delete an existing contact by providing `name` of the contact which we want to delete."
      ]
    },
    {
      "cell_type": "code",
      "execution_count": null,
      "metadata": {
        "id": "VBcSDNJnqNW2",
        "colab": {
          "base_uri": "https://localhost:8080/"
        },
        "outputId": "26f6693d-5e98-4c72-9026-6af620d1b950"
      },
      "outputs": [
        {
          "output_type": "execute_result",
          "data": {
            "text/plain": [
              "[{'name': 'aaa', 'number': 8764537283, 'email': 'asjhdgbby65@gmail.com'},\n",
              " {'name': 'bbb', 'number': 8764537283, 'email': 'asjhdgbby65@gmail.com'},\n",
              " {'name': 'ccc', 'number': 8764537283, 'email': 'asjhdgbby65@gmail.com'},\n",
              " {'name': 'fgh', 'number': '7657658790', 'email': 'hgfc@gmail.com'}]"
            ]
          },
          "metadata": {},
          "execution_count": 11
        }
      ],
      "source": [
        "def delete_contact(contacts, name):\n",
        "    for i in range(len(contacts)):\n",
        "      if contacts[i]['name']==name:\n",
        "        del contacts[i]\n",
        "        break\n",
        "    return contacts\n",
        "# contacts\n",
        "delete_contact(contacts,'ddd')"
      ]
    },
    {
      "cell_type": "markdown",
      "metadata": {
        "id": "OUZmuH7IqNW2"
      },
      "source": [
        "### Update Contact details\n",
        "\n",
        "Let's write `update_contact` function which will *update contact details* such as `name`, `email` & `number`. \n",
        "The functions should take `contacts` and `name` as arguments. It should also print the newly added contact."
      ]
    },
    {
      "cell_type": "code",
      "execution_count": null,
      "metadata": {
        "id": "aNBSLps7qNW3",
        "colab": {
          "base_uri": "https://localhost:8080/"
        },
        "outputId": "419178c7-e966-46da-cb4c-6530270adda9"
      },
      "outputs": [
        {
          "name": "stdout",
          "output_type": "stream",
          "text": [
            "jhg\n",
            "768-09876-09\n",
            "hgfgc@gmail.com\n"
          ]
        },
        {
          "output_type": "execute_result",
          "data": {
            "text/plain": [
              "[{'name': 'aaa', 'number': 8764537283, 'email': 'asjhdgbby65@gmail.com'},\n",
              " {'name': 'bbb', 'number': 8764537283, 'email': 'asjhdgbby65@gmail.com'},\n",
              " {'name': 'ccc', 'number': 8764537283, 'email': 'asjhdgbby65@gmail.com'},\n",
              " {'name': 'fgh', 'number': '7657658790', 'email': 'hgfc@gmail.com'},\n",
              " {'name': 'jhg', 'number': '768-09876-09', 'email': 'hgfgc@gmail.com'}]"
            ]
          },
          "metadata": {},
          "execution_count": 12
        }
      ],
      "source": [
        "def update_contact(contacts, name):\n",
        "\n",
        "  for i in contacts:\n",
        "    if i['name']==name:\n",
        "      u = {}\n",
        "      u['name']=input()\n",
        "      u['number']=input()\n",
        "      u['email']=input()\n",
        "      contacts.append(u)\n",
        "      return contacts\n",
        "      \n",
        "\n",
        "update_contact(contacts,'ccc')\n",
        "\n"
      ]
    },
    {
      "cell_type": "markdown",
      "metadata": {
        "id": "BVIx9cRoqNW3"
      },
      "source": [
        "### Open Contact \n",
        "`open_contact` function takes the `contacts` list and a `name` string as input. It prints the contact details if `name` matches some contact name in the `contacts` list, else prints `No match found!`.\n",
        "\n",
        "**Note:** The functions should be case insensitive. "
      ]
    },
    {
      "cell_type": "code",
      "execution_count": null,
      "metadata": {
        "id": "cZhS0tLVqNW3",
        "colab": {
          "base_uri": "https://localhost:8080/"
        },
        "outputId": "db2dacb8-c168-4647-806e-56730be91beb"
      },
      "outputs": [
        {
          "output_type": "execute_result",
          "data": {
            "text/plain": [
              "{'name': 'aaa', 'number': 8764537283, 'email': 'asjhdgbby65@gmail.com'}"
            ]
          },
          "metadata": {},
          "execution_count": 13
        }
      ],
      "source": [
        "def open_contact(contacts, name):\n",
        "  for i in contacts:\n",
        "    if i['name']==name:\n",
        "      return i\n",
        "  else:\n",
        "    print(\"No match Found\")\n",
        "open_contact(contacts,'aaa')"
      ]
    },
    {
      "cell_type": "markdown",
      "metadata": {
        "id": "gdcNoWb7qNW4"
      },
      "source": [
        "We often see *update* & *delete* options after we open a particular contact. It would be great if we can also implement the same. \n",
        "\n",
        "After opening the contact, the program should wait for user input. The user can press `u` to update & `d` delete contact. Any other key press should be ignored\n",
        "\n",
        "Write the updated `open_contact` function below"
      ]
    },
    {
      "cell_type": "code",
      "execution_count": null,
      "metadata": {
        "id": "nedXWUTSqNW4"
      },
      "outputs": [],
      "source": [
        "def open_contact(contacts, name):\n",
        "    delete_contact(contacts,'eee')\n",
        "    update_contact(contacts,'ddd')"
      ]
    },
    {
      "cell_type": "code",
      "execution_count": null,
      "metadata": {
        "id": "JAQgpasHqNW4"
      },
      "outputs": [],
      "source": [
        "open_contact(contacts,'ddd')"
      ]
    },
    {
      "cell_type": "markdown",
      "metadata": {
        "id": "PPuSLxhuqNW5"
      },
      "source": [
        "### Complete application (using all the above functions in use)\n",
        "\n",
        "We will use an infinite loop to encapsulate our application logic and break only when `q` is pressed. We will use `clear_output()` function from `IPython.display` to clear the output before printing anything new.\n",
        "\n",
        "Below is the pseudo-code to help you build the application logic."
      ]
    },
    {
      "cell_type": "code",
      "execution_count": null,
      "metadata": {
        "id": "OUetMeTnqNW5",
        "colab": {
          "base_uri": "https://localhost:8080/"
        },
        "outputId": "19f61c23-837d-4ead-980e-3d2ec04db3c0"
      },
      "outputs": [
        {
          "name": "stdout",
          "output_type": "stream",
          "text": [
            "Press 'a' - add contact, 'o' - open contact, 's' - search contact, 'q' - quito\n",
            "Enter name of the contact you want to open. aaa\n",
            "Press 'a' - add contact, 'o' - open contact, 's' - search contact, 'q' - quitq\n"
          ]
        }
      ],
      "source": [
        "from IPython.display import clear_output\n",
        "\n",
        "while True:\n",
        "    \n",
        "  def show_contacts(contacts):\n",
        "    return contacts\n",
        "  # contacts\n",
        "  show_contacts(contacts)\n",
        "\n",
        "  action = input(\"Press 'a' - add contact, 'o' - open contact, 's' - search contact, 'q' - quit\")\n",
        "  if action == 'a':\n",
        "          def add_contact(contacts):\n",
        "            add = {}\n",
        "            add['name']=input()\n",
        "            add['number']=input()\n",
        "            add['email']=input()\n",
        "            contacts.append(add)\n",
        "            return contacts\n",
        "            contacts\n",
        "          add_contact(contacts)\n",
        "\n",
        "  elif action == 'o':\n",
        "          name = input(\"Enter name of the contact you want to open. \")        \n",
        "          def open_contact(contacts, name):\n",
        "            for i in contacts:\n",
        "              if i['name']==name:\n",
        "                return i\n",
        "            else:\n",
        "              print(\"No match Found\")\n",
        "          open_contact(contacts,'aaa')\n",
        "\n",
        "  elif action == 'q':\n",
        "    break\n",
        "      \n",
        "  else:\n",
        "    print(\"Incorrect option\")"
      ]
    },
    {
      "cell_type": "markdown",
      "metadata": {
        "id": "YcfK2HfEqNW5"
      },
      "source": [
        "## Using files\n",
        "\n",
        "One major problem with the above approach is \"persistent storage\". Every time you close this notebook, all the new contacts are lost. This happens because `contacts` is a python variable. Its lives inside python session. As soon as the session is killed/terminated, all the varibles are also deleted.\n",
        "\n",
        "To address this problem, we will have to use save the contacts in a disk. What better reason to use files? Instead of using *list of dictionary*, use file to save the contacts. \n",
        "\n",
        "Save every new contact in a new-line and use \" , \" to separate the contact fields. This is how the above contacts should look, when saved in a file.\n",
        "\n",
        "```text\n",
        "vivek, vivek@gmail.com, 9921668254\n",
        "ankur, ankur@gmail.com, 8806807004\n",
        "pranav, pranav@gmail.com, 987654321\n",
        "```\n",
        "\n",
        "You task is to make appropriate changes to the above code to use `contacts.txt` instead of using `contacts` list."
      ]
    },
    {
      "cell_type": "markdown",
      "metadata": {
        "id": "LXAzfkXXqNW6"
      },
      "source": [
        "## Using Regex\n",
        "\n",
        "Yet another problem with our app is \"lack of validation\". While creating a new contact, user is free to enter anything. But why is that a problem? \n",
        "\n",
        "**Input validation** is important to ensure only properly formed data is entering the workflow in an information system, preventing malformed data from persisting in the database and triggering malfunction of various downstream components. Input validation should happen as early as possible in the data flow, preferably as soon as the data is received. [source](https://cheatsheetseries.owasp.org/cheatsheets/Input_Validation_Cheat_Sheet.html)\n",
        "\n",
        "The above paragraph is the complete gist of Input validation. Read it again & ponder for a minute. Its an important concept when building customer facing applications. We would highly recommend you to Google and read more about it.  \n",
        "\n",
        "Use regular expression to validate user input (before you save it to the file). Implement the following:\n",
        "- `Name` should be all alphabets. \" \" should also be allowed.\n",
        "- For `email` refer regex chapter from course material.\n",
        "- `Number` should have 10 digits. Not less, not more. Also, not alphabets should be allowed.\n",
        "- Add a new field `DOB` to each contact. It should follow YYYY-MM-DD format. Then write a regular expression to validate it. Remember, date & month cannot be greater that 31 & 12, respectively. \n",
        "\n",
        "Can you think of any more validations?"
      ]
    },
    {
      "cell_type": "markdown",
      "metadata": {
        "id": "kOmWy7dsqNW6"
      },
      "source": [
        "We really hope you had a wonderful time building this applications. This is how applications are developed in really life. You start with a set of basic functionalities and then you keep adding new features (like persistent storage & validation). As the application grows in size, you might encounter new problems to solve."
      ]
    },
    {
      "cell_type": "code",
      "source": [
        "fw = open('/content/contacts.txt', 'a') # write mode\n",
        "fw.write('This is written by python.')\n",
        "fw.close()"
      ],
      "metadata": {
        "id": "jqPzjVz6z2r4"
      },
      "execution_count": null,
      "outputs": []
    },
    {
      "cell_type": "code",
      "source": [],
      "metadata": {
        "id": "rzLbq7al0TKT"
      },
      "execution_count": null,
      "outputs": []
    }
  ],
  "metadata": {
    "kernelspec": {
      "display_name": "Python 3",
      "language": "python",
      "name": "python3"
    },
    "language_info": {
      "codemirror_mode": {
        "name": "ipython",
        "version": 3
      },
      "file_extension": ".py",
      "mimetype": "text/x-python",
      "name": "python",
      "nbconvert_exporter": "python",
      "pygments_lexer": "ipython3",
      "version": "3.7.4"
    },
    "toc": {
      "base_numbering": 1,
      "nav_menu": {},
      "number_sections": true,
      "sideBar": true,
      "skip_h1_title": false,
      "title_cell": "Table of Contents",
      "title_sidebar": "Contents",
      "toc_cell": false,
      "toc_position": {},
      "toc_section_display": true,
      "toc_window_display": false
    },
    "colab": {
      "provenance": [],
      "toc_visible": true,
      "include_colab_link": true
    }
  },
  "nbformat": 4,
  "nbformat_minor": 0
}